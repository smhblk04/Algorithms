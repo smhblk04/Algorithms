{
 "cells": [
  {
   "cell_type": "code",
   "execution_count": 1,
   "metadata": {},
   "outputs": [],
   "source": [
    "import random\n",
    "import time\n",
    "import matplotlib.pyplot as plt"
   ]
  },
  {
   "cell_type": "code",
   "execution_count": 2,
   "metadata": {},
   "outputs": [
    {
     "name": "stdout",
     "output_type": "stream",
     "text": [
      "Please enter the row of the car: 0\n",
      "Please enter the lane of the car: 1\n"
     ]
    }
   ],
   "source": [
    "start_row = int(input(\"Please enter the row of the car: \"))#Arabanin baslangicta bulundugu nokta, kullanicidan al\n",
    "start_lane = int(input(\"Please enter the lane of the car: \"))"
   ]
  },
  {
   "cell_type": "code",
   "execution_count": 3,
   "metadata": {},
   "outputs": [],
   "source": [
    "def print_matrix(A) :\n",
    "    for i in range (len(A)):\n",
    "        for k in range (len(A[0])):\n",
    "            print(A[i][k],end=\" \")\n",
    "        print(\"\\n\")\n",
    "    print(\"-------------\\n\")"
   ]
  },
  {
   "cell_type": "code",
   "execution_count": 4,
   "metadata": {},
   "outputs": [],
   "source": [
    "def roadway_matrix(n):\n",
    "    B = [[0 for i in range(3)] for j in range(n)]  # nx3 matrix\n",
    "    for i in range(len(B)):\n",
    "        z = random.randint(0, 2)\n",
    "        while i == start_row and z == start_lane:#Arabanin bulundugu noktada obstacle olmamamsi icin\n",
    "            z = random.randint(0, 2)\n",
    "        B[i][z] = 1\n",
    "        for k in range(3):\n",
    "            if k != z:\n",
    "                B[i][k] = 0\n",
    "    return B\n",
    "\n",
    "def memo_matrix(n):\n",
    "    memo = [[0 for i in range(3)] for j in range(n)]\n",
    "    for i in range(len(memo)):\n",
    "        for k in range(len(memo[0])):\n",
    "            memo[i][k] = -1\n",
    "    return memo"
   ]
  },
  {
   "cell_type": "code",
   "execution_count": 14,
   "metadata": {},
   "outputs": [
    {
     "name": "stdout",
     "output_type": "stream",
     "text": [
      "Please enter the row number: 20\n"
     ]
    }
   ],
   "source": [
    "n = int(input(\"Please enter the row number: \"))\n",
    "A = roadway_matrix(n)\n",
    "memo = memo_matrix(n)"
   ]
  },
  {
   "cell_type": "code",
   "execution_count": 15,
   "metadata": {},
   "outputs": [
    {
     "name": "stdout",
     "output_type": "stream",
     "text": [
      "0 0 1 \n",
      "\n",
      "0 1 0 \n",
      "\n",
      "0 1 0 \n",
      "\n",
      "0 0 1 \n",
      "\n",
      "0 1 0 \n",
      "\n",
      "0 1 0 \n",
      "\n",
      "0 0 1 \n",
      "\n",
      "0 0 1 \n",
      "\n",
      "1 0 0 \n",
      "\n",
      "0 1 0 \n",
      "\n",
      "0 0 1 \n",
      "\n",
      "1 0 0 \n",
      "\n",
      "0 0 1 \n",
      "\n",
      "1 0 0 \n",
      "\n",
      "0 1 0 \n",
      "\n",
      "1 0 0 \n",
      "\n",
      "0 1 0 \n",
      "\n",
      "0 0 1 \n",
      "\n",
      "0 0 1 \n",
      "\n",
      "1 0 0 \n",
      "\n",
      "-------------\n",
      "\n"
     ]
    }
   ],
   "source": [
    "print_matrix(A)"
   ]
  },
  {
   "cell_type": "code",
   "execution_count": 16,
   "metadata": {},
   "outputs": [
    {
     "name": "stdout",
     "output_type": "stream",
     "text": [
      "-1 -1 -1 \n",
      "\n",
      "-1 -1 -1 \n",
      "\n",
      "-1 -1 -1 \n",
      "\n",
      "-1 -1 -1 \n",
      "\n",
      "-1 -1 -1 \n",
      "\n",
      "-1 -1 -1 \n",
      "\n",
      "-1 -1 -1 \n",
      "\n",
      "-1 -1 -1 \n",
      "\n",
      "-1 -1 -1 \n",
      "\n",
      "-1 -1 -1 \n",
      "\n",
      "-1 -1 -1 \n",
      "\n",
      "-1 -1 -1 \n",
      "\n",
      "-1 -1 -1 \n",
      "\n",
      "-1 -1 -1 \n",
      "\n",
      "-1 -1 -1 \n",
      "\n",
      "-1 -1 -1 \n",
      "\n",
      "-1 -1 -1 \n",
      "\n",
      "-1 -1 -1 \n",
      "\n",
      "-1 -1 -1 \n",
      "\n",
      "-1 -1 -1 \n",
      "\n",
      "-------------\n",
      "\n"
     ]
    }
   ],
   "source": [
    "print_matrix(memo)"
   ]
  },
  {
   "cell_type": "markdown",
   "metadata": {},
   "source": [
    "PART (a)"
   ]
  },
  {
   "cell_type": "code",
   "execution_count": 17,
   "metadata": {},
   "outputs": [
    {
     "name": "stdout",
     "output_type": "stream",
     "text": [
      "1\n",
      "Running time of Naive algorithm:  0.0006420612335205078\n"
     ]
    }
   ],
   "source": [
    "def NAIVE(row, lane, A):\n",
    "    if row == len(A) or len(A) == 1:\n",
    "        return 0\n",
    "    elif A[row][lane] == 1:\n",
    "        return 1\n",
    "    else:\n",
    "        if lane - 1 > 0 and lane + 1 < len(A[0]):\n",
    "            return min(NAIVE(row + 1, lane - 1, A) + 1, NAIVE(row + 1, lane, A), NAIVE(row + 1, lane + 1, A) + 1)\n",
    "        elif lane == 0:\n",
    "            return min(NAIVE(row + 1, lane, A), NAIVE(row + 1, lane + 1, A) + 1)\n",
    "        else:\n",
    "            return min(NAIVE(row + 1, lane - 1, A) + 1, NAIVE(row + 1, lane,A))\n",
    "\n",
    "\n",
    "start = time.time()\n",
    "result = NAIVE(start_row, start_lane, A)\n",
    "print(result)\n",
    "end = time.time()\n",
    "print(\"Running time of Naive algorithm: \", end - start)"
   ]
  },
  {
   "cell_type": "code",
   "execution_count": 19,
   "metadata": {},
   "outputs": [
    {
     "name": "stdout",
     "output_type": "stream",
     "text": [
      "1\n",
      "Running time of Naive algorithm:  0.00017595291137695312\n"
     ]
    }
   ],
   "source": [
    "#memo: Matrix for memoization\n",
    "def Top_down_with_Memo(row, lane, A, memo):\n",
    "    if row == len(A):\n",
    "        return 0\n",
    "    elif memo[row][lane] != -1:\n",
    "        return memo[row][lane]\n",
    "    elif A[row][lane] == 1:\n",
    "        return 1\n",
    "    else:\n",
    "        if lane - 1 > 0 and lane + 1 < len(A[0]):\n",
    "            memo[row][lane] = min(Top_down_with_Memo(row + 1, lane - 1, A, memo) + 1, Top_down_with_Memo(row + 1, lane,A, memo), Top_down_with_Memo(row + 1, lane + 1, A, memo) + 1)\n",
    "        elif lane - 1 < 0:\n",
    "            memo[row][lane] = min(Top_down_with_Memo(row + 1, lane, A, memo), Top_down_with_Memo(row + 1, lane + 1, A, memo) + 1)\n",
    "        else:\n",
    "            memo[row][lane] = min(Top_down_with_Memo(row + 1, lane - 1, A, memo) + 1, Top_down_with_Memo(row + 1, lane, A, memo))\n",
    "    return memo[row][lane]\n",
    "            \n",
    "\n",
    "start = time.time()\n",
    "result = Top_down_with_Memo(start_row, start_lane, A, memo)\n",
    "print(result)\n",
    "end = time.time()\n",
    "print(\"Running time of Naive algorithm: \", end - start)"
   ]
  },
  {
   "cell_type": "code",
   "execution_count": 10,
   "metadata": {},
   "outputs": [],
   "source": [
    "memo = memo_matrix(n)"
   ]
  },
  {
   "cell_type": "code",
   "execution_count": null,
   "metadata": {},
   "outputs": [],
   "source": [
    "#The bottom up iterative algorithm does not work, coded to show the work.\n",
    "def Bottom_up_iterative(row, lane):\n",
    "    if row == n:\n",
    "        return 0\n",
    "    elif memo[row][lane] != -1:\n",
    "        return memo[row][lane]\n",
    "    elif A[row][lane] == 1:\n",
    "        return 1\n",
    "    else:\n",
    "        for i in range(n):\n",
    "            if lane - 1 > 0 and lane + 1 < len(A[0]):\n",
    "                memo[row + i][lane] = min(Bottom_up_iterative(row + i, lane - 1) + 1, Bottom_up_iterative(row + i, lane), Bottom_up_iterative(row + i, lane + 1) + 1)\n",
    "            elif lane - 1 < 0:\n",
    "                memo[row + i][lane] = min(Bottom_up_iterative(row + i, lane), Bottom_up_iterative(row + i, lane + 1) + 1)\n",
    "            else:\n",
    "                memo[row + i][lane] = min(Bottom_up_iterative(row + i, lane - 1) + 1, Bottom_up_iterative(row + i, lane))\n",
    "    return memo[row][lane]\n",
    "\n",
    "\n",
    "start = time.time()\n",
    "result = Bottom_up_iterative(start_row, start_lane)\n",
    "print(result)\n",
    "end = time.time()\n",
    "print(\"Running time of Naive algorithm: \", end - start)"
   ]
  },
  {
   "cell_type": "markdown",
   "metadata": {},
   "source": [
    "Part(e) from the first question\n",
    "Experimental evaluations of these three algorithms: plot the results in a graph, and discuss the results \n",
    "(e.g., are they expected or surprising? why?)"
   ]
  },
  {
   "cell_type": "code",
   "execution_count": 28,
   "metadata": {},
   "outputs": [
    {
     "data": {
      "image/png": "[encoded data removed]",
      "text/plain": [
       "<Figure size 432x288 with 1 Axes>"
      ]
     },
     "metadata": {
      "needs_background": "light"
     },
     "output_type": "display_data"
    }
   ],
   "source": [
    "matrix_size = []\n",
    "results = []\n",
    "for i in range(5):\n",
    "    total = 0\n",
    "    matrix_size.append(2**i)\n",
    "    for k in range(50):\n",
    "        A = roadway_matrix(2**i)\n",
    "        start = time.time()\n",
    "        result = NAIVE(start_row, start_lane, A)\n",
    "        end = time.time()\n",
    "        total += (end - start)\n",
    "    results.append(total / 50)\n",
    "    \n",
    "plt.plot(matrix_size, results, linewidth = 2.0)\n",
    "plt.xlabel('Input size')\n",
    "plt.ylabel('Running time (s)')\n",
    "plt.show()"
   ]
  },
  {
   "cell_type": "code",
   "execution_count": 29,
   "metadata": {},
   "outputs": [
    {
     "data": {
      "image/png": "[encoded data removed]",
      "text/plain": [
       "<Figure size 432x288 with 1 Axes>"
      ]
     },
     "metadata": {
      "needs_background": "light"
     },
     "output_type": "display_data"
    }
   ],
   "source": [
    "matrix_size = []\n",
    "results = []\n",
    "for i in range(5):\n",
    "    matrix_size.append(2**i)\n",
    "    total = 0\n",
    "    for k in range(50):\n",
    "        A = roadway_matrix(2**i)\n",
    "        memo = memo_matrix(2**i)\n",
    "        start = time.time()\n",
    "        result = Top_down_with_Memo(start_row, start_lane, A, memo)\n",
    "        end = time.time()\n",
    "        total += (end - start)\n",
    "    results.append(total / 50)\n",
    "    \n",
    "plt.plot(matrix_size, results, linewidth = 2.0)\n",
    "plt.xlabel('Input size')\n",
    "plt.ylabel('Running time (s)')\n",
    "plt.show()"
   ]
  },
  {
   "cell_type": "code",
   "execution_count": null,
   "metadata": {},
   "outputs": [],
   "source": []
  }
 ],
 "metadata": {
  "kernelspec": {
   "display_name": "Python 3",
   "language": "python",
   "name": "python3"
  },
  "language_info": {
   "codemirror_mode": {
    "name": "ipython",
    "version": 3
   },
   "file_extension": ".py",
   "mimetype": "text/x-python",
   "name": "python",
   "nbconvert_exporter": "python",
   "pygments_lexer": "ipython3",
   "version": "3.7.0"
  }
 },
 "nbformat": 4,
 "nbformat_minor": 2
}
